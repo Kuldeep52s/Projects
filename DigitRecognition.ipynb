{
  "nbformat": 4,
  "nbformat_minor": 0,
  "metadata": {
    "colab": {
      "name": "DigitRecognition.ipynb",
      "provenance": [],
      "collapsed_sections": [],
      "mount_file_id": "16zrE1-W4djmoe4GpGrCd_8svNO96Gbd3",
      "authorship_tag": "ABX9TyNwkAdIHqAR6LmSkueW2rDH",
      "include_colab_link": true
    },
    "kernelspec": {
      "name": "python3",
      "display_name": "Python 3"
    },
    "accelerator": "GPU"
  },
  "cells": [
    {
      "cell_type": "markdown",
      "metadata": {
        "id": "view-in-github",
        "colab_type": "text"
      },
      "source": [
        "<a href=\"https://colab.research.google.com/github/Kuldeep52s/Projects/blob/master/DigitRecognition.ipynb\" target=\"_parent\"><img src=\"https://colab.research.google.com/assets/colab-badge.svg\" alt=\"Open In Colab\"/></a>"
      ]
    },
    {
      "cell_type": "code",
      "metadata": {
        "id": "6a335VOKWqhL",
        "colab_type": "code",
        "colab": {}
      },
      "source": [
        "import numpy as np\n",
        "import matplotlib.pyplot as plt\n",
        "from keras.datasets import mnist\n",
        "from keras.models import Sequential, load_model\n",
        "from keras.layers.core import Dense, Dropout,Activation\n",
        "from keras.utils import np_utils"
      ],
      "execution_count": 2,
      "outputs": []
    },
    {
      "cell_type": "code",
      "metadata": {
        "id": "Q5IWJ63rYwIP",
        "colab_type": "code",
        "colab": {
          "base_uri": "https://localhost:8080/",
          "height": 50
        },
        "outputId": "a54b355a-9f26-45fa-ce76-e46d198193e4"
      },
      "source": [
        "(x_train,y_train),(x_test,y_test) = mnist.load_data()"
      ],
      "execution_count": 3,
      "outputs": [
        {
          "output_type": "stream",
          "text": [
            "Downloading data from https://storage.googleapis.com/tensorflow/tf-keras-datasets/mnist.npz\n",
            "11493376/11490434 [==============================] - 0s 0us/step\n"
          ],
          "name": "stdout"
        }
      ]
    },
    {
      "cell_type": "code",
      "metadata": {
        "id": "iOpebn7MY9ZY",
        "colab_type": "code",
        "colab": {
          "base_uri": "https://localhost:8080/",
          "height": 297
        },
        "outputId": "7ad5eb0f-34e8-44f7-f43c-e79e74cef938"
      },
      "source": [
        "fig = plt.figure()\n",
        "for i in range(9):\n",
        "  plt.subplot(3,3,i+1)\n",
        "  #Automatically adjust subplot parameters\n",
        "  plt.tight_layout() \n",
        "  #Display data as an image, i.e., on a 2D regular raster\n",
        "  plt.imshow(x_train[i],cmap='gray',interpolation='none') \n",
        "  plt.title(f\"Digit: {y_train[i]}\")"
      ],
      "execution_count": 4,
      "outputs": [
        {
          "output_type": "display_data",
          "data": {
            "image/png": "[encoded data removed]",
            "text/plain": [
              "<Figure size 432x288 with 9 Axes>"
            ]
          },
          "metadata": {
            "tags": [],
            "needs_background": "light"
          }
        }
      ]
    },
    {
      "cell_type": "code",
      "metadata": {
        "id": "QEoiaD9bcuKa",
        "colab_type": "code",
        "colab": {
          "base_uri": "https://localhost:8080/",
          "height": 84
        },
        "outputId": "5a69db38-920d-4a58-f378-f43275778ad8"
      },
      "source": [
        "# let's print the shape before we reshape and normalize\n",
        "print(\"x_train shape\",x_train.shape)\n",
        "print(\"y_train shape\",y_train.shape)\n",
        "print(\"x_test shape\", x_test.shape)\n",
        "print(\"y_test shape\", y_test.shape)"
      ],
      "execution_count": 5,
      "outputs": [
        {
          "output_type": "stream",
          "text": [
            "x_train shape (60000, 28, 28)\n",
            "y_train shape (60000,)\n",
            "x_test shape (10000, 28, 28)\n",
            "y_test shape (10000,)\n"
          ],
          "name": "stdout"
        }
      ]
    },
    {
      "cell_type": "code",
      "metadata": {
        "id": "c-tsMzlNc9RJ",
        "colab_type": "code",
        "colab": {}
      },
      "source": [
        "# building the input vector from the 28x28 pixels\n",
        "x_train = x_train.reshape(60000, 784)\n",
        "x_test = x_test.reshape(10000, 784)\n",
        "x_train = x_train.astype('float32')\n",
        "x_test = x_test.astype('float32')"
      ],
      "execution_count": 6,
      "outputs": []
    },
    {
      "cell_type": "code",
      "metadata": {
        "id": "J1OU_K9XdvL4",
        "colab_type": "code",
        "colab": {
          "base_uri": "https://localhost:8080/",
          "height": 50
        },
        "outputId": "f462e7e6-3762-4436-8531-833dd9cf40e3"
      },
      "source": [
        "# normalizing the data to help with the training\n",
        "x_train /= 255\n",
        "x_test /= 255\n",
        "\n",
        "# print the final input shape ready for training\n",
        "print(\"Train matrix shape\", x_train.shape)\n",
        "print(\"Test matrix shape\", x_test.shape)"
      ],
      "execution_count": 7,
      "outputs": [
        {
          "output_type": "stream",
          "text": [
            "Train matrix shape (60000, 784)\n",
            "Test matrix shape (10000, 784)\n"
          ],
          "name": "stdout"
        }
      ]
    },
    {
      "cell_type": "code",
      "metadata": {
        "id": "c_BvqPw5d4u1",
        "colab_type": "code",
        "colab": {
          "base_uri": "https://localhost:8080/",
          "height": 34
        },
        "outputId": "d8478d06-c6a6-4ab1-d367-d3ab0a0554d3"
      },
      "source": [
        "print(np.unique(y_train))"
      ],
      "execution_count": 8,
      "outputs": [
        {
          "output_type": "stream",
          "text": [
            "[0 1 2 3 4 5 6 7 8 9]\n"
          ],
          "name": "stdout"
        }
      ]
    },
    {
      "cell_type": "code",
      "metadata": {
        "id": "6DQjIXcMeMO1",
        "colab_type": "code",
        "colab": {
          "base_uri": "https://localhost:8080/",
          "height": 50
        },
        "outputId": "baea3d14-45e0-4fff-d544-78c6ee7dc242"
      },
      "source": [
        "# one-hot encoding using keras' numpy-related utilities\n",
        "n_classes = 10\n",
        "print(\"Shape before one-hot encoding: \", y_train.shape)\n",
        "Y_train = np_utils.to_categorical(y_train, n_classes)\n",
        "Y_test = np_utils.to_categorical(y_test, n_classes)\n",
        "print(\"Shape after one-hot encoding: \", Y_train.shape)"
      ],
      "execution_count": 9,
      "outputs": [
        {
          "output_type": "stream",
          "text": [
            "Shape before one-hot encoding:  (60000,)\n",
            "Shape after one-hot encoding:  (60000, 10)\n"
          ],
          "name": "stdout"
        }
      ]
    },
    {
      "cell_type": "code",
      "metadata": {
        "id": "fZC3ZfXc_P0D",
        "colab_type": "code",
        "colab": {}
      },
      "source": [
        "# Y_train = y_train.reshape(-1,1)\n",
        "# Y_test = y_test.reshape(-1,1)\n",
        "# Y_train[0].shape"
      ],
      "execution_count": 10,
      "outputs": []
    },
    {
      "cell_type": "code",
      "metadata": {
        "id": "_P_4ou1mefag",
        "colab_type": "code",
        "colab": {}
      },
      "source": [
        "model = Sequential()\n",
        "model.add(Dense(512,input_shape=(784,)))\n",
        "model.add(Activation('relu'))\n",
        "model.add(Dropout(0.2))\n",
        "\n",
        "model.add(Dense(512))\n",
        "model.add(Activation('relu'))\n",
        "model.add(Dropout(0.2))\n",
        "\n",
        "model.add(Dense(10))\n",
        "model.add(Activation('softmax'))"
      ],
      "execution_count": 12,
      "outputs": []
    },
    {
      "cell_type": "code",
      "metadata": {
        "id": "tUn2nV3_ggg_",
        "colab_type": "code",
        "colab": {}
      },
      "source": [
        "model.compile(loss='categorical_crossentropy',metrics=['accuracy'],optimizer='adam')"
      ],
      "execution_count": 13,
      "outputs": []
    },
    {
      "cell_type": "code",
      "metadata": {
        "id": "Pt6Zp2IehKEm",
        "colab_type": "code",
        "colab": {
          "base_uri": "https://localhost:8080/",
          "height": 689
        },
        "outputId": "4b2edb38-c730-4dd4-da92-a7959ed9c218"
      },
      "source": [
        "history = model.fit(x_train,Y_train, batch_size=128,epochs=20, verbose=2, validation_data=(x_test,Y_test))"
      ],
      "execution_count": 14,
      "outputs": [
        {
          "output_type": "stream",
          "text": [
            "Epoch 1/20\n",
            "469/469 - 2s - loss: 0.2491 - accuracy: 0.9255 - val_loss: 0.1123 - val_accuracy: 0.9647\n",
            "Epoch 2/20\n",
            "469/469 - 1s - loss: 0.1007 - accuracy: 0.9686 - val_loss: 0.0846 - val_accuracy: 0.9745\n",
            "Epoch 3/20\n",
            "469/469 - 1s - loss: 0.0719 - accuracy: 0.9774 - val_loss: 0.0736 - val_accuracy: 0.9758\n",
            "Epoch 4/20\n",
            "469/469 - 1s - loss: 0.0576 - accuracy: 0.9812 - val_loss: 0.0712 - val_accuracy: 0.9784\n",
            "Epoch 5/20\n",
            "469/469 - 1s - loss: 0.0442 - accuracy: 0.9860 - val_loss: 0.0637 - val_accuracy: 0.9795\n",
            "Epoch 6/20\n",
            "469/469 - 1s - loss: 0.0393 - accuracy: 0.9873 - val_loss: 0.0688 - val_accuracy: 0.9814\n",
            "Epoch 7/20\n",
            "469/469 - 1s - loss: 0.0335 - accuracy: 0.9889 - val_loss: 0.0603 - val_accuracy: 0.9826\n",
            "Epoch 8/20\n",
            "469/469 - 1s - loss: 0.0291 - accuracy: 0.9902 - val_loss: 0.0748 - val_accuracy: 0.9787\n",
            "Epoch 9/20\n",
            "469/469 - 1s - loss: 0.0280 - accuracy: 0.9905 - val_loss: 0.0604 - val_accuracy: 0.9846\n",
            "Epoch 10/20\n",
            "469/469 - 1s - loss: 0.0248 - accuracy: 0.9916 - val_loss: 0.0698 - val_accuracy: 0.9813\n",
            "Epoch 11/20\n",
            "469/469 - 1s - loss: 0.0223 - accuracy: 0.9923 - val_loss: 0.0661 - val_accuracy: 0.9829\n",
            "Epoch 12/20\n",
            "469/469 - 1s - loss: 0.0236 - accuracy: 0.9919 - val_loss: 0.0661 - val_accuracy: 0.9822\n",
            "Epoch 13/20\n",
            "469/469 - 1s - loss: 0.0199 - accuracy: 0.9935 - val_loss: 0.0656 - val_accuracy: 0.9841\n",
            "Epoch 14/20\n",
            "469/469 - 1s - loss: 0.0199 - accuracy: 0.9932 - val_loss: 0.0677 - val_accuracy: 0.9841\n",
            "Epoch 15/20\n",
            "469/469 - 1s - loss: 0.0148 - accuracy: 0.9950 - val_loss: 0.0681 - val_accuracy: 0.9825\n",
            "Epoch 16/20\n",
            "469/469 - 1s - loss: 0.0219 - accuracy: 0.9929 - val_loss: 0.0774 - val_accuracy: 0.9825\n",
            "Epoch 17/20\n",
            "469/469 - 1s - loss: 0.0163 - accuracy: 0.9945 - val_loss: 0.0759 - val_accuracy: 0.9836\n",
            "Epoch 18/20\n",
            "469/469 - 1s - loss: 0.0144 - accuracy: 0.9953 - val_loss: 0.0789 - val_accuracy: 0.9827\n",
            "Epoch 19/20\n",
            "469/469 - 1s - loss: 0.0166 - accuracy: 0.9945 - val_loss: 0.0865 - val_accuracy: 0.9817\n",
            "Epoch 20/20\n",
            "469/469 - 1s - loss: 0.0141 - accuracy: 0.9955 - val_loss: 0.0764 - val_accuracy: 0.9825\n"
          ],
          "name": "stdout"
        }
      ]
    },
    {
      "cell_type": "code",
      "metadata": {
        "id": "w-irmxzupgsM",
        "colab_type": "code",
        "colab": {
          "base_uri": "https://localhost:8080/",
          "height": 67
        },
        "outputId": "ae7b6d75-ecbe-4782-8dba-006b25a7949b"
      },
      "source": [
        "loss = model.evaluate(x_test,Y_test,verbose=2)\n",
        "print(f'loss={loss[0]} \\n accuracy = {loss[1]}')"
      ],
      "execution_count": 15,
      "outputs": [
        {
          "output_type": "stream",
          "text": [
            "313/313 - 1s - loss: 0.0764 - accuracy: 0.9825\n",
            "loss=0.07635344564914703 \n",
            " accuracy = 0.9825000166893005\n"
          ],
          "name": "stdout"
        }
      ]
    },
    {
      "cell_type": "code",
      "metadata": {
        "id": "rCUjqEHiqKLj",
        "colab_type": "code",
        "colab": {
          "base_uri": "https://localhost:8080/",
          "height": 1000
        },
        "outputId": "fc08bd8a-9a14-474d-ff1f-6602104d5f20"
      },
      "source": [
        "predicted_classes = model.predict_classes(x_test)\n",
        "# see which we predicted correctly and which not\n",
        "correct_idx = np.nonzero(predicted_classes == y_test)[0]\n",
        "incorrect_idx = np.nonzero(predicted_classes != y_test)[0]\n",
        "print()\n",
        "print(len(correct_idx),\" classified correctly\")\n",
        "print(len(incorrect_idx),\" classified incorrectly\")\n",
        "\n",
        "# adapt figure size to accomodate 18 subplots\n",
        "plt.rcParams['figure.figsize'] = (7,14)\n",
        "\n",
        "figure_evaluation = plt.figure()\n",
        "# print('Correct predictions')\n",
        "# ploting 5 correct predictions\n",
        "for i, correct in enumerate(correct_idx[:5]):\n",
        "    plt.subplot(6,3,i+1)\n",
        "    plt.imshow(x_test[correct].reshape(28,28), cmap='gray', interpolation='none')\n",
        "    plt.title(\n",
        "      \"Predicted: {}, Truth: {}\".format(predicted_classes[correct],y_test[correct]))\n",
        "    plt.xticks([])\n",
        "    plt.yticks([])\n",
        "# print('Incorrect predictions')\n",
        "# plotloting 5 incorrect predictions\n",
        "for i, incorrect in enumerate(incorrect_idx[:5]):\n",
        "    plt.subplot(6,3,i+1+5)\n",
        "    plt.imshow(x_test[incorrect].reshape(28,28), cmap='gray', interpolation='none')\n",
        "    plt.title(\n",
        "      \"Predicted {}, Truth: {}\".format(predicted_classes[incorrect], y_test[incorrect]))\n",
        "    plt.xticks([])\n",
        "    plt.yticks([])\n",
        "\n",
        "figure_evaluation"
      ],
      "execution_count": 19,
      "outputs": [
        {
          "output_type": "stream",
          "text": [
            "\n",
            "9825  classified correctly\n",
            "175  classified incorrectly\n"
          ],
          "name": "stdout"
        },
        {
          "output_type": "execute_result",
          "data": {
            "image/png": "[encoded data removed]",
            "text/plain": [
              "<Figure size 504x1008 with 10 Axes>"
            ]
          },
          "metadata": {
            "tags": []
          },
          "execution_count": 19
        },
        {
          "output_type": "display_data",
          "data": {
            "image/png": "[encoded data removed]",
            "text/plain": [
              "<Figure size 504x1008 with 10 Axes>"
            ]
          },
          "metadata": {
            "tags": []
          }
        }
      ]
    },
    {
      "cell_type": "code",
      "metadata": {
        "id": "DFFXRIDvtS9G",
        "colab_type": "code",
        "colab": {}
      },
      "source": [
        ""
      ],
      "execution_count": null,
      "outputs": []
    },
    {
      "cell_type": "markdown",
      "metadata": {
        "id": "R_bs-awVn7go",
        "colab_type": "text"
      },
      "source": [
        ""
      ]
    }
  ]
}